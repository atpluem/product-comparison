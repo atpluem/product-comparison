{
 "cells": [
  {
   "cell_type": "markdown",
   "metadata": {},
   "source": [
    "# Product Price Comparison\n",
    "Dataset: https://www.kaggle.com/datasets/prashantk93/supply-chain-management-for-car"
   ]
  },
  {
   "cell_type": "code",
   "execution_count": 44,
   "metadata": {},
   "outputs": [],
   "source": [
    "import pandas as pd\n",
    "import numpy as np\n",
    "import matplotlib.pyplot as plt\n",
    "import seaborn as sns"
   ]
  },
  {
   "cell_type": "markdown",
   "metadata": {},
   "source": [
    "### Load and Transform data"
   ]
  },
  {
   "cell_type": "code",
   "execution_count": 271,
   "metadata": {},
   "outputs": [
    {
     "data": {
      "text/html": [
       "<div>\n",
       "<style scoped>\n",
       "    .dataframe tbody tr th:only-of-type {\n",
       "        vertical-align: middle;\n",
       "    }\n",
       "\n",
       "    .dataframe tbody tr th {\n",
       "        vertical-align: top;\n",
       "    }\n",
       "\n",
       "    .dataframe thead th {\n",
       "        text-align: right;\n",
       "    }\n",
       "</style>\n",
       "<table border=\"1\" class=\"dataframe\">\n",
       "  <thead>\n",
       "    <tr style=\"text-align: right;\">\n",
       "      <th></th>\n",
       "      <th>SupplierName</th>\n",
       "      <th>CarMaker</th>\n",
       "      <th>CarModel</th>\n",
       "      <th>CarColor</th>\n",
       "      <th>CarModelYear</th>\n",
       "      <th>CarPrice</th>\n",
       "    </tr>\n",
       "  </thead>\n",
       "  <tbody>\n",
       "    <tr>\n",
       "      <th>0</th>\n",
       "      <td>Bubbletube</td>\n",
       "      <td>Dodge</td>\n",
       "      <td>Ram 2500</td>\n",
       "      <td>Goldenrod</td>\n",
       "      <td>2007</td>\n",
       "      <td>521963.45</td>\n",
       "    </tr>\n",
       "    <tr>\n",
       "      <th>1</th>\n",
       "      <td>Tagopia</td>\n",
       "      <td>Toyota</td>\n",
       "      <td>Tundra</td>\n",
       "      <td>Crimson</td>\n",
       "      <td>2010</td>\n",
       "      <td>672222.04</td>\n",
       "    </tr>\n",
       "    <tr>\n",
       "      <th>2</th>\n",
       "      <td>Zoomdog</td>\n",
       "      <td>GMC</td>\n",
       "      <td>Savana 1500</td>\n",
       "      <td>Crimson</td>\n",
       "      <td>2011</td>\n",
       "      <td>504465.72</td>\n",
       "    </tr>\n",
       "    <tr>\n",
       "      <th>3</th>\n",
       "      <td>Oozz</td>\n",
       "      <td>Volkswagen</td>\n",
       "      <td>Cabriolet</td>\n",
       "      <td>Fuscia</td>\n",
       "      <td>1990</td>\n",
       "      <td>646077.11</td>\n",
       "    </tr>\n",
       "    <tr>\n",
       "      <th>4</th>\n",
       "      <td>Kare</td>\n",
       "      <td>Mercury</td>\n",
       "      <td>Mariner</td>\n",
       "      <td>Teal</td>\n",
       "      <td>2009</td>\n",
       "      <td>699890.24</td>\n",
       "    </tr>\n",
       "  </tbody>\n",
       "</table>\n",
       "</div>"
      ],
      "text/plain": [
       "  SupplierName    CarMaker     CarModel   CarColor  CarModelYear   CarPrice\n",
       "0   Bubbletube       Dodge     Ram 2500  Goldenrod          2007  521963.45\n",
       "1      Tagopia      Toyota       Tundra    Crimson          2010  672222.04\n",
       "2      Zoomdog         GMC  Savana 1500    Crimson          2011  504465.72\n",
       "3         Oozz  Volkswagen    Cabriolet     Fuscia          1990  646077.11\n",
       "4         Kare     Mercury      Mariner       Teal          2009  699890.24"
      ]
     },
     "execution_count": 271,
     "metadata": {},
     "output_type": "execute_result"
    }
   ],
   "source": [
    "# Load data and select the required feature\n",
    "usecols = ['SupplierName', 'CarMaker', 'CarModel', \n",
    "           'CarColor', 'CarModelYear', 'CarPrice']\n",
    "df = pd.read_csv('src/Car_SupplyChainManagementDataSet.csv', usecols=usecols)\n",
    "df.head()"
   ]
  },
  {
   "cell_type": "code",
   "execution_count": 272,
   "metadata": {},
   "outputs": [],
   "source": [
    "# Filter CarModel has at least 10 SKU\n",
    "df = df[df['CarMaker'].map(df['CarMaker'].value_counts()) > 10]"
   ]
  },
  {
   "cell_type": "code",
   "execution_count": 273,
   "metadata": {},
   "outputs": [
    {
     "data": {
      "text/html": [
       "<div>\n",
       "<style scoped>\n",
       "    .dataframe tbody tr th:only-of-type {\n",
       "        vertical-align: middle;\n",
       "    }\n",
       "\n",
       "    .dataframe tbody tr th {\n",
       "        vertical-align: top;\n",
       "    }\n",
       "\n",
       "    .dataframe thead th {\n",
       "        text-align: right;\n",
       "    }\n",
       "</style>\n",
       "<table border=\"1\" class=\"dataframe\">\n",
       "  <thead>\n",
       "    <tr style=\"text-align: right;\">\n",
       "      <th></th>\n",
       "      <th>SKU</th>\n",
       "      <th>SupplierName</th>\n",
       "      <th>CarPrice</th>\n",
       "    </tr>\n",
       "  </thead>\n",
       "  <tbody>\n",
       "    <tr>\n",
       "      <th>0</th>\n",
       "      <td>DODGE-RAM2500-GOLDENROD-2007</td>\n",
       "      <td>Bubbletube</td>\n",
       "      <td>521963.45</td>\n",
       "    </tr>\n",
       "    <tr>\n",
       "      <th>1</th>\n",
       "      <td>TOYOTA-TUNDRA-CRIMSON-2010</td>\n",
       "      <td>Tagopia</td>\n",
       "      <td>672222.04</td>\n",
       "    </tr>\n",
       "    <tr>\n",
       "      <th>2</th>\n",
       "      <td>GMC-SAVANA1500-CRIMSON-2011</td>\n",
       "      <td>Zoomdog</td>\n",
       "      <td>504465.72</td>\n",
       "    </tr>\n",
       "    <tr>\n",
       "      <th>3</th>\n",
       "      <td>VOLKSWAGEN-CABRIOLET-FUSCIA-1990</td>\n",
       "      <td>Oozz</td>\n",
       "      <td>646077.11</td>\n",
       "    </tr>\n",
       "    <tr>\n",
       "      <th>4</th>\n",
       "      <td>MERCURY-MARINER-TEAL-2009</td>\n",
       "      <td>Kare</td>\n",
       "      <td>699890.24</td>\n",
       "    </tr>\n",
       "  </tbody>\n",
       "</table>\n",
       "</div>"
      ],
      "text/plain": [
       "                                SKU SupplierName   CarPrice\n",
       "0      DODGE-RAM2500-GOLDENROD-2007   Bubbletube  521963.45\n",
       "1        TOYOTA-TUNDRA-CRIMSON-2010      Tagopia  672222.04\n",
       "2       GMC-SAVANA1500-CRIMSON-2011      Zoomdog  504465.72\n",
       "3  VOLKSWAGEN-CABRIOLET-FUSCIA-1990         Oozz  646077.11\n",
       "4         MERCURY-MARINER-TEAL-2009         Kare  699890.24"
      ]
     },
     "execution_count": 273,
     "metadata": {},
     "output_type": "execute_result"
    }
   ],
   "source": [
    "# Create SKU\n",
    "df['SKU'] = df[df.columns[1:5]].apply(\n",
    "    lambda x: '-'.join(x.astype(str)), axis=1).apply(\n",
    "    lambda x: x.upper().replace(' ', ''))\n",
    "df.drop(['CarMaker', 'CarModel', 'CarColor', 'CarModelYear'], \n",
    "        axis=1, inplace=True)\n",
    "df = df.reindex(columns=['SKU', 'SupplierName', 'CarPrice'])\n",
    "df.head()"
   ]
  },
  {
   "cell_type": "markdown",
   "metadata": {},
   "source": [
    "### Sample data into HTML form"
   ]
  },
  {
   "cell_type": "code",
   "execution_count": 274,
   "metadata": {},
   "outputs": [],
   "source": [
    "n_web = 3\n",
    "n_sample = 800\n",
    "\n",
    "for i in range(n_web):\n",
    "    # sample product for sale on the website\n",
    "    web = df.sample(n=n_sample, random_state=42+i, ignore_index=True)\n",
    "    # add noise to CarPrice by random with spread about 5% of original price\n",
    "    web['CarPrice'] = web['CarPrice'].apply(\n",
    "        lambda x: int(x * (1 + np.random.normal(loc=0, scale=0.05))))\n",
    "    \n",
    "    # write html to file\n",
    "    with open(\"src/website{0}.html\".format(i+1), \"w\") as f:\n",
    "        f.write(web.to_html(index=False))"
   ]
  },
  {
   "cell_type": "markdown",
   "metadata": {},
   "source": [
    "### Web Scraping Products from websites"
   ]
  },
  {
   "cell_type": "code",
   "execution_count": 185,
   "metadata": {},
   "outputs": [],
   "source": [
    "from bs4 import BeautifulSoup"
   ]
  },
  {
   "cell_type": "code",
   "execution_count": 261,
   "metadata": {},
   "outputs": [],
   "source": [
    "with open('src/website1.html', 'r') as f:\n",
    "    html_data = f.read()\n",
    "soup = BeautifulSoup(html_data)"
   ]
  },
  {
   "cell_type": "code",
   "execution_count": 262,
   "metadata": {},
   "outputs": [],
   "source": [
    "html_table = soup.find_all('table')"
   ]
  },
  {
   "cell_type": "code",
   "execution_count": 263,
   "metadata": {},
   "outputs": [
    {
     "data": {
      "text/plain": [
       "['SKU', 'SupplierName', 'CarPrice']"
      ]
     },
     "execution_count": 263,
     "metadata": {},
     "output_type": "execute_result"
    }
   ],
   "source": [
    "# Extract column names\n",
    "def extract_column_from_header(row):\n",
    "    if row.br: row.br.extract()\n",
    "    if row.a: row.a.extract()\n",
    "    if row.sup: row.sup.extract()\n",
    "\n",
    "    colunm_name = ' '.join(row.contents)\n",
    "    \n",
    "    # Filter the digit and empty names\n",
    "    if not(colunm_name.strip().isdigit()):\n",
    "        colunm_name = colunm_name.strip()\n",
    "        return colunm_name  \n",
    "\n",
    "column_names = []\n",
    "for row in html_table[0].find_all('th'):\n",
    "    name = extract_column_from_header(row)\n",
    "    if name is not None and len(name) > 0:\n",
    "        column_names.append(name)\n",
    "column_names"
   ]
  },
  {
   "cell_type": "code",
   "execution_count": 151,
   "metadata": {},
   "outputs": [],
   "source": [
    "product_dict = dict.fromkeys(column_names)\n",
    "# Set dict value to empty list\n",
    "for key in product_dict.keys():\n",
    "    product_dict[key] = []  \n",
    "\n",
    "for rows in html_table[0].find_all('tr'):\n",
    "    # check table heading\n",
    "    if rows.th:\n",
    "        continue\n",
    "    row = rows.find_all('td')\n",
    "    for i, col_name in enumerate(column_names):\n",
    "        product_dict[col_name].append(row[i].contents[0])"
   ]
  },
  {
   "cell_type": "markdown",
   "metadata": {},
   "source": [
    "### Merge data from each websites"
   ]
  },
  {
   "cell_type": "code",
   "execution_count": 275,
   "metadata": {},
   "outputs": [],
   "source": [
    "website_paths = ['src/website1.html', \n",
    "                 'src/website2.html',\n",
    "                 'src/website3.html']\n",
    "\n",
    "# Extract column names\n",
    "def extract_column_from_header(row):\n",
    "    if row.br: row.br.extract()\n",
    "    if row.a: row.a.extract()\n",
    "    if row.sup: row.sup.extract()\n",
    "\n",
    "    colunm_name = ' '.join(row.contents)\n",
    "    \n",
    "    # Filter the digit and empty names\n",
    "    if not(colunm_name.strip().isdigit()):\n",
    "        colunm_name = colunm_name.strip()\n",
    "        return colunm_name  \n",
    "\n",
    "for i_web, path in enumerate(website_paths):\n",
    "    with open(path, 'r') as f:\n",
    "        html_data = f.read()\n",
    "    soup = BeautifulSoup(html_data)\n",
    "    html_table = soup.find_all('table')[0]\n",
    "\n",
    "    # Extract column names\n",
    "    if i_web == 0:\n",
    "        column_names = []\n",
    "        for row in html_table.find_all('th'):\n",
    "            name = extract_column_from_header(row)\n",
    "            if name is not None and len(name) > 0:\n",
    "                column_names.append(name)\n",
    "    \n",
    "    product_dict = dict.fromkeys(column_names)\n",
    "    # Set dict value to empty list\n",
    "    for key in product_dict.keys():\n",
    "        product_dict[key] = []  \n",
    "\n",
    "    for rows in html_table.find_all('tr'):\n",
    "        # skip table heading\n",
    "        if rows.th: continue\n",
    "        row = rows.find_all('td')\n",
    "        for i, col_name in enumerate(column_names):\n",
    "            product_dict[col_name].append(row[i].contents[0])\n",
    "    \n",
    "    if i_web == 0:\n",
    "        result = pd.DataFrame(product_dict)\n",
    "        result['CarPrice'] = result['CarPrice'].astype('int')\n",
    "        result.rename(columns={\"CarPrice\": \"CarPrice_{0}\".format(i_web+1)}, \n",
    "                      inplace=True)\n",
    "    else:\n",
    "        temp = pd.DataFrame(product_dict)\n",
    "        temp['CarPrice'] = temp['CarPrice'].astype('int')\n",
    "        temp.rename(columns={\"CarPrice\": \"CarPrice_{0}\".format(i_web+1)}, \n",
    "                    inplace=True)\n",
    "        result = pd.merge(result, temp, how='inner', on=['SKU', 'SupplierName'])"
   ]
  },
  {
   "cell_type": "code",
   "execution_count": 276,
   "metadata": {},
   "outputs": [
    {
     "data": {
      "text/html": [
       "<div>\n",
       "<style scoped>\n",
       "    .dataframe tbody tr th:only-of-type {\n",
       "        vertical-align: middle;\n",
       "    }\n",
       "\n",
       "    .dataframe tbody tr th {\n",
       "        vertical-align: top;\n",
       "    }\n",
       "\n",
       "    .dataframe thead th {\n",
       "        text-align: right;\n",
       "    }\n",
       "</style>\n",
       "<table border=\"1\" class=\"dataframe\">\n",
       "  <thead>\n",
       "    <tr style=\"text-align: right;\">\n",
       "      <th></th>\n",
       "      <th>SKU</th>\n",
       "      <th>SupplierName</th>\n",
       "      <th>CarPrice_1</th>\n",
       "      <th>CarPrice_2</th>\n",
       "      <th>CarPrice_3</th>\n",
       "    </tr>\n",
       "  </thead>\n",
       "  <tbody>\n",
       "    <tr>\n",
       "      <th>132</th>\n",
       "      <td>TOYOTA-4RUNNER-MAUV-2006</td>\n",
       "      <td>Edgeify</td>\n",
       "      <td>580273</td>\n",
       "      <td>555769</td>\n",
       "      <td>560871</td>\n",
       "    </tr>\n",
       "    <tr>\n",
       "      <th>183</th>\n",
       "      <td>TOYOTA-4RUNNER-MAUV-2000</td>\n",
       "      <td>Realmix</td>\n",
       "      <td>560901</td>\n",
       "      <td>543835</td>\n",
       "      <td>548619</td>\n",
       "    </tr>\n",
       "    <tr>\n",
       "      <th>352</th>\n",
       "      <td>TOYOTA-4RUNNER-PINK-2000</td>\n",
       "      <td>Thoughtbeat</td>\n",
       "      <td>843069</td>\n",
       "      <td>839220</td>\n",
       "      <td>730419</td>\n",
       "    </tr>\n",
       "  </tbody>\n",
       "</table>\n",
       "</div>"
      ],
      "text/plain": [
       "                          SKU SupplierName  CarPrice_1  CarPrice_2  CarPrice_3\n",
       "132  TOYOTA-4RUNNER-MAUV-2006      Edgeify      580273      555769      560871\n",
       "183  TOYOTA-4RUNNER-MAUV-2000      Realmix      560901      543835      548619\n",
       "352  TOYOTA-4RUNNER-PINK-2000  Thoughtbeat      843069      839220      730419"
      ]
     },
     "execution_count": 276,
     "metadata": {},
     "output_type": "execute_result"
    }
   ],
   "source": [
    "result[result['SKU'].str.contains('TOYOTA-4RUNNER')]"
   ]
  }
 ],
 "metadata": {
  "kernelspec": {
   "display_name": "base",
   "language": "python",
   "name": "python3"
  },
  "language_info": {
   "codemirror_mode": {
    "name": "ipython",
    "version": 3
   },
   "file_extension": ".py",
   "mimetype": "text/x-python",
   "name": "python",
   "nbconvert_exporter": "python",
   "pygments_lexer": "ipython3",
   "version": "3.9.13"
  },
  "orig_nbformat": 4
 },
 "nbformat": 4,
 "nbformat_minor": 2
}
